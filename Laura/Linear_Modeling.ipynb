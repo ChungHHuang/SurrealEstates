{
 "cells": [
  {
   "cell_type": "markdown",
   "metadata": {},
   "source": [
    "# Linear Modeling"
   ]
  },
  {
   "cell_type": "code",
   "execution_count": 12,
   "metadata": {},
   "outputs": [],
   "source": [
    "import pandas as pd\n",
    "import numpy as np"
   ]
  },
  {
   "cell_type": "code",
   "execution_count": 13,
   "metadata": {},
   "outputs": [],
   "source": [
    "housing_train = pd.read_csv('housing_train.csv')\n",
    "housing_test = pd.read_csv('housing_test.csv')\n",
    "\n",
    "y_train = pd.read_csv('y_housing.csv')"
   ]
  },
  {
   "cell_type": "code",
   "execution_count": 14,
   "metadata": {},
   "outputs": [
    {
     "name": "stdout",
     "output_type": "stream",
     "text": [
      "Full Train dimension: (1342, 300)\n",
      "Y train dimension: (1342, 1)\n",
      "Test data dimension: (1459, 300)\n"
     ]
    }
   ],
   "source": [
    "print('Full Train dimension:', housing_train.shape)\n",
    "print('Y train dimension:', y_train.shape)\n",
    "print('Test data dimension:', housing_test.shape)"
   ]
  },
  {
   "cell_type": "code",
   "execution_count": 21,
   "metadata": {},
   "outputs": [],
   "source": [
    "\n",
    "from copy import deepcopy\n",
    "from sklearn.linear_model import LinearRegression, ElasticNet, Lasso, Ridge, SGDClassifier, BayesianRidge, LassoLarsIC\n",
    "from sklearn.ensemble import RandomForestRegressor,  GradientBoostingRegressor\n",
    "from sklearn.kernel_ridge import KernelRidge\n",
    "from sklearn.base import BaseEstimator, TransformerMixin, RegressorMixin, clone\n",
    "from sklearn.model_selection import  train_test_split\n",
    "from sklearn.metrics import mean_squared_error, log_loss\n",
    "\n",
    "\n",
    "\n"
   ]
  },
  {
   "cell_type": "code",
   "execution_count": 20,
   "metadata": {},
   "outputs": [],
   "source": [
    "### getting the score for eash model\n",
    "\n",
    "sgd = SGDClassifier(loss='log', shuffle = False)\n",
    "sgd\n",
    "    \n",
    "linear = deepcopy(sgd)"
   ]
  },
  {
   "cell_type": "code",
   "execution_count": null,
   "metadata": {},
   "outputs": [],
   "source": []
  },
  {
   "cell_type": "markdown",
   "metadata": {},
   "source": [
    "## 1. Mutivariate Linear Regression"
   ]
  },
  {
   "cell_type": "code",
   "execution_count": 22,
   "metadata": {},
   "outputs": [],
   "source": [
    "linear = LinearRegression()\n"
   ]
  },
  {
   "cell_type": "code",
   "execution_count": 16,
   "metadata": {},
   "outputs": [],
   "source": [
    "X_train, X_test, y_train, y_test = train_test_split(housing_train, y_train, test_size=0.3, random_state=42)\n",
    "  "
   ]
  },
  {
   "cell_type": "markdown",
   "metadata": {},
   "source": [
    "Train"
   ]
  },
  {
   "cell_type": "code",
   "execution_count": 23,
   "metadata": {
    "scrolled": true
   },
   "outputs": [
    {
     "data": {
      "text/plain": [
       "LinearRegression(copy_X=True, fit_intercept=True, n_jobs=None,\n",
       "         normalize=False)"
      ]
     },
     "execution_count": 23,
     "metadata": {},
     "output_type": "execute_result"
    }
   ],
   "source": [
    "linear.fit(X_train,y_train)"
   ]
  },
  {
   "cell_type": "code",
   "execution_count": 24,
   "metadata": {
    "scrolled": true
   },
   "outputs": [
    {
     "name": "stdout",
     "output_type": "stream",
     "text": [
      "R^2: 0.96\n",
      "Intercept: 2.79\n"
     ]
    }
   ],
   "source": [
    "linear.fit(X_train, y_train)\n",
    "print('R^2: %.2f' %linear.score(X_train,y_train))\n",
    "print('Intercept: %.2f' %linear.intercept_)\n"
   ]
  },
  {
   "cell_type": "markdown",
   "metadata": {},
   "source": [
    "Test"
   ]
  },
  {
   "cell_type": "code",
   "execution_count": 25,
   "metadata": {},
   "outputs": [],
   "source": [
    "linear_prediction = linear.predict(X_test)"
   ]
  },
  {
   "cell_type": "code",
   "execution_count": 26,
   "metadata": {
    "scrolled": false
   },
   "outputs": [
    {
     "name": "stdout",
     "output_type": "stream",
     "text": [
      "Linear RMSE: 0.14\n"
     ]
    }
   ],
   "source": [
    "linear_mse = mean_squared_error(linear_prediction, y_test)\n",
    "linear_rsme = np.sqrt(linear_mse)\n",
    "print('Linear RMSE: %.2f' % linear_rsme)"
   ]
  },
  {
   "cell_type": "code",
   "execution_count": 37,
   "metadata": {},
   "outputs": [
    {
     "name": "stdout",
     "output_type": "stream",
     "text": [
      "R^2 for train set: 0.956669\n",
      "R^2 for test  set: 0.854974\n"
     ]
    }
   ],
   "source": [
    "print(\"R^2 for train set: %f\" %linear.score(X_train, y_train))\n",
    "print(\"R^2 for test  set: %f\" %linear.score(X_test, y_test))"
   ]
  },
  {
   "cell_type": "markdown",
   "metadata": {},
   "source": [
    "## 2. Penalized Regression for Models\n",
    "\n",
    "Due to the large number of observations in our data, we will use a penalized regression model"
   ]
  },
  {
   "cell_type": "markdown",
   "metadata": {},
   "source": [
    "#### Ridge\n",
    "\n",
    "   -  Ridge regression shrinks the regression coefficients, so that variables, with minor contribution to the outcome, have their coefficients close to zero.\n",
    "   - L2 norm... SS coefs\n",
    "   - as lambda increases the penalty grows\n",
    "   - adv. performs well with large multivariate data predictors > obs\n",
    "   - never reaches 0"
   ]
  },
  {
   "cell_type": "code",
   "execution_count": 27,
   "metadata": {},
   "outputs": [],
   "source": [
    "ridge = Ridge()"
   ]
  },
  {
   "cell_type": "code",
   "execution_count": 28,
   "metadata": {},
   "outputs": [
    {
     "data": {
      "text/plain": [
       "Ridge(alpha=1, copy_X=True, fit_intercept=True, max_iter=None, normalize=True,\n",
       "   random_state=None, solver='auto', tol=0.001)"
      ]
     },
     "execution_count": 28,
     "metadata": {},
     "output_type": "execute_result"
    }
   ],
   "source": [
    "ridge.set_params(alpha = 1, normalize=True)\n"
   ]
  },
  {
   "cell_type": "markdown",
   "metadata": {},
   "source": [
    "Train"
   ]
  },
  {
   "cell_type": "code",
   "execution_count": 29,
   "metadata": {
    "scrolled": true
   },
   "outputs": [
    {
     "name": "stdout",
     "output_type": "stream",
     "text": [
      "R^2: 0.92\n",
      "Intercept: 6.56\n"
     ]
    }
   ],
   "source": [
    "ridge.fit(X_train, y_train)\n",
    "print('R^2: %.2f' %ridge.score(X_train,y_train))\n",
    "print('Intercept: %.2f' %ridge.intercept_)\n"
   ]
  },
  {
   "cell_type": "markdown",
   "metadata": {},
   "source": [
    "Test"
   ]
  },
  {
   "cell_type": "code",
   "execution_count": 30,
   "metadata": {},
   "outputs": [
    {
     "name": "stdout",
     "output_type": "stream",
     "text": [
      "Ridge RMSE: 0.13\n"
     ]
    }
   ],
   "source": [
    "ridge_prediction = ridge.predict(X_test)\n",
    "ridge_mse = mean_squared_error(ridge_prediction, y_test)\n",
    "ridge_rsme = np.sqrt(ridge_mse)\n",
    "print('Ridge RMSE: %.2f' % ridge_rsme)"
   ]
  },
  {
   "cell_type": "code",
   "execution_count": 38,
   "metadata": {},
   "outputs": [
    {
     "name": "stdout",
     "output_type": "stream",
     "text": [
      "R^2 for train set: 0.922168\n",
      "R^2 for test  set: 0.882849\n"
     ]
    }
   ],
   "source": [
    "print(\"R^2 for train set: %f\" %ridge.score(X_train, y_train))\n",
    "print(\"R^2 for test  set: %f\" %ridge.score(X_test, y_test))"
   ]
  },
  {
   "cell_type": "markdown",
   "metadata": {},
   "source": [
    "#### Lasso\n",
    "   - Shrinks toward 0, L1 norm, sum abs coefs\n",
    "   - shinks to 0\n",
    "   - it produces simpler more interpretable models\n",
    "   - performs better when where some predictors have large coefs and some have small "
   ]
  },
  {
   "cell_type": "code",
   "execution_count": 31,
   "metadata": {},
   "outputs": [
    {
     "data": {
      "text/plain": [
       "Lasso(alpha=0, copy_X=True, fit_intercept=True, max_iter=1000, normalize=True,\n",
       "   positive=False, precompute=False, random_state=None, selection='cyclic',\n",
       "   tol=0.0001, warm_start=False)"
      ]
     },
     "execution_count": 31,
     "metadata": {},
     "output_type": "execute_result"
    }
   ],
   "source": [
    "lasso = Lasso()\n",
    "lasso.set_params(alpha=0, normalize = True)\n"
   ]
  },
  {
   "cell_type": "markdown",
   "metadata": {},
   "source": [
    "Train"
   ]
  },
  {
   "cell_type": "code",
   "execution_count": 32,
   "metadata": {},
   "outputs": [
    {
     "name": "stdout",
     "output_type": "stream",
     "text": [
      "R^2: 0.96\n",
      "Intercept: 3.19\n"
     ]
    },
    {
     "name": "stderr",
     "output_type": "stream",
     "text": [
      "/Users/lauraelliott/anaconda3/lib/python3.7/site-packages/ipykernel_launcher.py:1: UserWarning: With alpha=0, this algorithm does not converge well. You are advised to use the LinearRegression estimator\n",
      "  \"\"\"Entry point for launching an IPython kernel.\n",
      "/Users/lauraelliott/anaconda3/lib/python3.7/site-packages/sklearn/linear_model/coordinate_descent.py:478: UserWarning: Coordinate descent with no regularization may lead to unexpected results and is discouraged.\n",
      "  positive)\n",
      "/Users/lauraelliott/anaconda3/lib/python3.7/site-packages/sklearn/linear_model/coordinate_descent.py:492: ConvergenceWarning: Objective did not converge. You might want to increase the number of iterations. Fitting data with very small alpha may cause precision problems.\n",
      "  ConvergenceWarning)\n"
     ]
    }
   ],
   "source": [
    "lasso.fit(X_train, y_train)\n",
    "print('R^2: %.2f' %lasso.score(X_train,y_train))\n",
    "print('Intercept: %.2f' %lasso.intercept_)"
   ]
  },
  {
   "cell_type": "markdown",
   "metadata": {},
   "source": [
    "Test\n"
   ]
  },
  {
   "cell_type": "code",
   "execution_count": 33,
   "metadata": {},
   "outputs": [
    {
     "name": "stdout",
     "output_type": "stream",
     "text": [
      "Lasso RMSE: 0.13\n"
     ]
    }
   ],
   "source": [
    "las_prediction = lasso.predict(X_test)\n",
    "las_mse = mean_squared_error(las_prediction, y_test)\n",
    "las_rsme = np.sqrt(ridge_mse)\n",
    "print('Lasso RMSE: %.2f' % las_rsme)"
   ]
  },
  {
   "cell_type": "code",
   "execution_count": 39,
   "metadata": {},
   "outputs": [
    {
     "name": "stdout",
     "output_type": "stream",
     "text": [
      "R^2 for train set: 0.956627\n",
      "R^2 for test  set: 0.848891\n"
     ]
    }
   ],
   "source": [
    "print(\"R^2 for train set: %f\" %lasso.score(X_train, y_train))\n",
    "print(\"R^2 for test  set: %f\" %lasso.score(X_test, y_test))"
   ]
  },
  {
   "cell_type": "markdown",
   "metadata": {},
   "source": [
    "#### Elastic Net"
   ]
  },
  {
   "cell_type": "markdown",
   "metadata": {},
   "source": [
    "   - A hybrid of both Ridge and Lasso\n",
    "   - sets some coeficients to shrink like ridge regression\n",
    "   - sets some to 0 like lasso"
   ]
  },
  {
   "cell_type": "markdown",
   "metadata": {},
   "source": [
    "Train"
   ]
  },
  {
   "cell_type": "code",
   "execution_count": 34,
   "metadata": {},
   "outputs": [
    {
     "name": "stdout",
     "output_type": "stream",
     "text": [
      "R^2: 0.86\n",
      "Intercept: -2.44\n"
     ]
    }
   ],
   "source": [
    "elasticnet = ElasticNet(alpha = 0.01, l1_ratio=0.5, normalize=False)\n",
    "elasticnet.fit(X_train, y_train)\n",
    "print('R^2: %.2f' %elasticnet.score(X_train,y_train))\n",
    "print('Intercept: %.2f' %elasticnet.intercept_)"
   ]
  },
  {
   "cell_type": "markdown",
   "metadata": {},
   "source": [
    "Test"
   ]
  },
  {
   "cell_type": "code",
   "execution_count": 35,
   "metadata": {},
   "outputs": [
    {
     "name": "stdout",
     "output_type": "stream",
     "text": [
      "Ridge RMSE: 0.15\n"
     ]
    }
   ],
   "source": [
    "en_prediction = elasticnet.predict(X_test)\n",
    "en_mse = mean_squared_error(en_prediction, y_test)\n",
    "en_rsme = np.sqrt(en_mse)\n",
    "print('Ridge RMSE: %.2f' % en_rsme)"
   ]
  },
  {
   "cell_type": "code",
   "execution_count": 40,
   "metadata": {},
   "outputs": [
    {
     "name": "stdout",
     "output_type": "stream",
     "text": [
      "R^2 for train set: 0.857532\n",
      "R^2 for test  set: 0.848811\n"
     ]
    }
   ],
   "source": [
    "print(\"R^2 for train set: %f\" %elasticnet.score(X_train, y_train))\n",
    "print(\"R^2 for test  set: %f\" %elasticnet.score(X_test, y_test))"
   ]
  },
  {
   "cell_type": "code",
   "execution_count": null,
   "metadata": {},
   "outputs": [],
   "source": []
  },
  {
   "cell_type": "code",
   "execution_count": null,
   "metadata": {},
   "outputs": [],
   "source": []
  },
  {
   "cell_type": "code",
   "execution_count": null,
   "metadata": {},
   "outputs": [],
   "source": []
  },
  {
   "cell_type": "code",
   "execution_count": null,
   "metadata": {},
   "outputs": [],
   "source": []
  },
  {
   "cell_type": "code",
   "execution_count": null,
   "metadata": {},
   "outputs": [],
   "source": []
  },
  {
   "cell_type": "code",
   "execution_count": null,
   "metadata": {},
   "outputs": [],
   "source": []
  },
  {
   "cell_type": "code",
   "execution_count": null,
   "metadata": {},
   "outputs": [],
   "source": []
  },
  {
   "cell_type": "code",
   "execution_count": null,
   "metadata": {},
   "outputs": [],
   "source": []
  },
  {
   "cell_type": "code",
   "execution_count": null,
   "metadata": {},
   "outputs": [],
   "source": []
  },
  {
   "cell_type": "code",
   "execution_count": null,
   "metadata": {},
   "outputs": [],
   "source": []
  }
 ],
 "metadata": {
  "kernelspec": {
   "display_name": "Python 3",
   "language": "python",
   "name": "python3"
  },
  "language_info": {
   "codemirror_mode": {
    "name": "ipython",
    "version": 3
   },
   "file_extension": ".py",
   "mimetype": "text/x-python",
   "name": "python",
   "nbconvert_exporter": "python",
   "pygments_lexer": "ipython3",
   "version": "3.7.3"
  }
 },
 "nbformat": 4,
 "nbformat_minor": 2
}
