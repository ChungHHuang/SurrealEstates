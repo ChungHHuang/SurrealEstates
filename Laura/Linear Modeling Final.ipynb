{
 "cells": [
  {
   "cell_type": "markdown",
   "metadata": {},
   "source": [
    "# Ames Housing ML Challenge"
   ]
  },
  {
   "cell_type": "markdown",
   "metadata": {},
   "source": [
    "# Linear Modeling"
   ]
  },
  {
   "cell_type": "code",
   "execution_count": 87,
   "metadata": {},
   "outputs": [],
   "source": [
    "import pandas as pd\n",
    "import numpy as np"
   ]
  },
  {
   "cell_type": "code",
   "execution_count": null,
   "metadata": {},
   "outputs": [],
   "source": []
  },
  {
   "cell_type": "code",
   "execution_count": 74,
   "metadata": {},
   "outputs": [],
   "source": [
    "housing_train = pd.read_csv('housing_train.csv')\n",
    "housing_test = pd.read_csv('housing_test.csv')\n",
    "\n",
    "y_housing = pd.read_csv('y_housing.csv')\n"
   ]
  },
  {
   "cell_type": "code",
   "execution_count": null,
   "metadata": {},
   "outputs": [],
   "source": [
    "housing_test.head()"
   ]
  },
  {
   "cell_type": "code",
   "execution_count": 75,
   "metadata": {},
   "outputs": [
    {
     "name": "stdout",
     "output_type": "stream",
     "text": [
      "Full Train dimension: (1460, 246)\n",
      "Y train dimension: (1460, 1)\n",
      "Test data dimension: (1459, 246)\n"
     ]
    }
   ],
   "source": [
    "print('Full Train dimension:', housing_train.shape)\n",
    "print('Y train dimension:', y_housing.shape)\n",
    "print('Test data dimension:', housing_test.shape)\n",
    "\n"
   ]
  },
  {
   "cell_type": "code",
   "execution_count": 95,
   "metadata": {},
   "outputs": [],
   "source": [
    "from sklearn import linear_model\n",
    "from sklearn.linear_model import ElasticNet, Lasso, Ridge, SGDRegressor\n",
    "from sklearn.ensemble import RandomForestRegressor,  GradientBoostingRegressor\n",
    "from sklearn.kernel_ridge import KernelRidge\n",
    "from sklearn.base import BaseEstimator, TransformerMixin, RegressorMixin, clone\n",
    "from sklearn.model_selection import  train_test_split\n",
    "from sklearn.metrics import mean_squared_error, log_loss\n",
    "from sklearn.decomposition import PCA\n",
    "\n",
    "\n",
    "\n",
    "import sklearn.model_selection as ms\n",
    "\n",
    "from sklearn import ensemble\n",
    "from sklearn.ensemble import RandomForestRegressor\n",
    "from pprint import pprint\n",
    "from sklearn.svm import SVR"
   ]
  },
  {
   "cell_type": "code",
   "execution_count": 96,
   "metadata": {},
   "outputs": [],
   "source": [
    "X_train, X_test, y_train, y_test = train_test_split(housing_train, y_housing, test_size = 0.30, random_state = 42)"
   ]
  },
  {
   "cell_type": "code",
   "execution_count": 103,
   "metadata": {},
   "outputs": [],
   "source": [
    "ridge = linear_model.Ridge(alpha = 25, normalize=False, copy_X= True, fit_intercept = True)\n",
    "lasso = linear_model.Lasso(alpha= 0, normalize = True)\n",
    "elasticnet = linear_model.ElasticNet(alpha = 0.01, l1_ratio=0.5, normalize=False)\n",
    "clf = linear_model.SGDRegressor(max_iter=1000, tol=1e-3)\n",
    "\n",
    "gbm = ensemble.GradientBoostingRegressor()\n",
    "rf = ensemble.RandomForestRegressor(n_estimators = 400, min_samples_split=2,\n",
    "                                    min_samples_leaf = 1, max_features = 'sqrt',\n",
    "                                    max_depth = None, bootstrap = False, random_state=42)\n",
    "\n"
   ]
  },
  {
   "cell_type": "code",
   "execution_count": 25,
   "metadata": {},
   "outputs": [
    {
     "ename": "SyntaxError",
     "evalue": "invalid syntax (<ipython-input-25-9cd7b7c62ae1>, line 1)",
     "output_type": "error",
     "traceback": [
      "\u001b[0;36m  File \u001b[0;32m\"<ipython-input-25-9cd7b7c62ae1>\"\u001b[0;36m, line \u001b[0;32m1\u001b[0m\n\u001b[0;31m    Parameters currently in use:\u001b[0m\n\u001b[0m                       ^\u001b[0m\n\u001b[0;31mSyntaxError\u001b[0m\u001b[0;31m:\u001b[0m invalid syntax\n"
     ]
    }
   ],
   "source": [
    "Parameters currently in use:\n",
    "\n",
    "{'alpha': 1,\n",
    " 'copy_X': True,\n",
    " 'fit_intercept': True,\n",
    " 'max_iter': None,\n",
    " 'normalize': True,\n",
    " 'random_state': None,\n",
    " 'solver': 'auto',\n",
    " 'tol': 0.001}"
   ]
  },
  {
   "cell_type": "code",
   "execution_count": 79,
   "metadata": {},
   "outputs": [
    {
     "data": {
      "text/plain": [
       "(1460, 246)"
      ]
     },
     "execution_count": 79,
     "metadata": {},
     "output_type": "execute_result"
    }
   ],
   "source": [
    "housing_train.shape"
   ]
  },
  {
   "cell_type": "code",
   "execution_count": 80,
   "metadata": {},
   "outputs": [
    {
     "data": {
      "text/plain": [
       "(1460, 1)"
      ]
     },
     "execution_count": 80,
     "metadata": {},
     "output_type": "execute_result"
    }
   ],
   "source": [
    "y_housing.shape"
   ]
  },
  {
   "cell_type": "code",
   "execution_count": 104,
   "metadata": {},
   "outputs": [],
   "source": [
    "modelList =[ridge, lasso, elasticnet, clf, gbm, rf]\n",
    "modelSeries= pd.Series(modelList, index =[ 'Ridge', 'Lasso', 'Elasticnet', 'SGD', 'XGboost', 'Random Forest'])\n",
    "\n"
   ]
  },
  {
   "cell_type": "code",
   "execution_count": 106,
   "metadata": {
    "collapsed": true
   },
   "outputs": [
    {
     "name": "stderr",
     "output_type": "stream",
     "text": [
      "/Users/lauraelliott/anaconda3/lib/python3.7/site-packages/ipykernel_launcher.py:1: UserWarning: With alpha=0, this algorithm does not converge well. You are advised to use the LinearRegression estimator\n",
      "  \"\"\"Entry point for launching an IPython kernel.\n",
      "/Users/lauraelliott/anaconda3/lib/python3.7/site-packages/sklearn/linear_model/coordinate_descent.py:478: UserWarning: Coordinate descent with no regularization may lead to unexpected results and is discouraged.\n",
      "  positive)\n",
      "/Users/lauraelliott/anaconda3/lib/python3.7/site-packages/sklearn/linear_model/coordinate_descent.py:492: ConvergenceWarning: Objective did not converge. You might want to increase the number of iterations. Fitting data with very small alpha may cause precision problems.\n",
      "  ConvergenceWarning)\n",
      "/Users/lauraelliott/anaconda3/lib/python3.7/site-packages/sklearn/utils/validation.py:761: DataConversionWarning: A column-vector y was passed when a 1d array was expected. Please change the shape of y to (n_samples, ), for example using ravel().\n",
      "  y = column_or_1d(y, warn=True)\n",
      "/Users/lauraelliott/anaconda3/lib/python3.7/site-packages/sklearn/utils/validation.py:761: DataConversionWarning: A column-vector y was passed when a 1d array was expected. Please change the shape of y to (n_samples, ), for example using ravel().\n",
      "  y = column_or_1d(y, warn=True)\n",
      "/Users/lauraelliott/anaconda3/lib/python3.7/site-packages/ipykernel_launcher.py:1: DataConversionWarning: A column-vector y was passed when a 1d array was expected. Please change the shape of y to (n_samples,), for example using ravel().\n",
      "  \"\"\"Entry point for launching an IPython kernel.\n"
     ]
    },
    {
     "data": {
      "text/plain": [
       "Ridge            Ridge(alpha=25, copy_X=True, fit_intercept=Tru...\n",
       "Lasso            Lasso(alpha=0, copy_X=True, fit_intercept=True...\n",
       "Elasticnet       ElasticNet(alpha=0.01, copy_X=True, fit_interc...\n",
       "SGD              SGDRegressor(alpha=0.0001, average=False, earl...\n",
       "XGboost          ([DecisionTreeRegressor(criterion='friedman_ms...\n",
       "Random Forest    (DecisionTreeRegressor(criterion='mse', max_de...\n",
       "dtype: object"
      ]
     },
     "execution_count": 106,
     "metadata": {},
     "output_type": "execute_result"
    }
   ],
   "source": [
    "modelSeries.apply(lambda x:x.fit(X_train, y_train))"
   ]
  },
  {
   "cell_type": "code",
   "execution_count": 107,
   "metadata": {},
   "outputs": [
    {
     "data": {
      "text/html": [
       "<div>\n",
       "<style scoped>\n",
       "    .dataframe tbody tr th:only-of-type {\n",
       "        vertical-align: middle;\n",
       "    }\n",
       "\n",
       "    .dataframe tbody tr th {\n",
       "        vertical-align: top;\n",
       "    }\n",
       "\n",
       "    .dataframe thead th {\n",
       "        text-align: right;\n",
       "    }\n",
       "</style>\n",
       "<table border=\"1\" class=\"dataframe\">\n",
       "  <thead>\n",
       "    <tr style=\"text-align: right;\">\n",
       "      <th></th>\n",
       "      <th>train score</th>\n",
       "      <th>test score</th>\n",
       "      <th>rmse</th>\n",
       "    </tr>\n",
       "  </thead>\n",
       "  <tbody>\n",
       "    <tr>\n",
       "      <th>Ridge</th>\n",
       "      <td>9.171362e-01</td>\n",
       "      <td>9.048747e-01</td>\n",
       "      <td>1.270332e-01</td>\n",
       "    </tr>\n",
       "    <tr>\n",
       "      <th>Lasso</th>\n",
       "      <td>9.484165e-01</td>\n",
       "      <td>8.456522e-01</td>\n",
       "      <td>1.618152e-01</td>\n",
       "    </tr>\n",
       "    <tr>\n",
       "      <th>Elasticnet</th>\n",
       "      <td>8.773139e-01</td>\n",
       "      <td>8.899902e-01</td>\n",
       "      <td>1.366107e-01</td>\n",
       "    </tr>\n",
       "    <tr>\n",
       "      <th>SGD</th>\n",
       "      <td>-3.037177e+29</td>\n",
       "      <td>-2.694054e+29</td>\n",
       "      <td>2.137826e+14</td>\n",
       "    </tr>\n",
       "    <tr>\n",
       "      <th>XGboost</th>\n",
       "      <td>9.573425e-01</td>\n",
       "      <td>8.976785e-01</td>\n",
       "      <td>1.317506e-01</td>\n",
       "    </tr>\n",
       "    <tr>\n",
       "      <th>Random Forest</th>\n",
       "      <td>1.000000e+00</td>\n",
       "      <td>8.773274e-01</td>\n",
       "      <td>1.442590e-01</td>\n",
       "    </tr>\n",
       "  </tbody>\n",
       "</table>\n",
       "</div>"
      ],
      "text/plain": [
       "                train score    test score          rmse\n",
       "Ridge          9.171362e-01  9.048747e-01  1.270332e-01\n",
       "Lasso          9.484165e-01  8.456522e-01  1.618152e-01\n",
       "Elasticnet     8.773139e-01  8.899902e-01  1.366107e-01\n",
       "SGD           -3.037177e+29 -2.694054e+29  2.137826e+14\n",
       "XGboost        9.573425e-01  8.976785e-01  1.317506e-01\n",
       "Random Forest  1.000000e+00  8.773274e-01  1.442590e-01"
      ]
     },
     "execution_count": 107,
     "metadata": {},
     "output_type": "execute_result"
    }
   ],
   "source": [
    "ans = pd.concat([modelSeries.apply(lambda x: x.score(X_train,y_train)),modelSeries.apply(lambda x: x.score(X_test,y_test)), \n",
    "                                    modelSeries.apply(lambda x: np.sqrt(mean_squared_error(x.predict(X_test), y_test)))],axis=1)\n",
    "\n",
    "ans.columns = ['train score', 'test score', 'rmse']\n",
    "ans"
   ]
  },
  {
   "cell_type": "markdown",
   "metadata": {},
   "source": [
    "## Prediction"
   ]
  },
  {
   "cell_type": "code",
   "execution_count": 65,
   "metadata": {},
   "outputs": [],
   "source": [
    "test = pd.read_csv('test.csv')"
   ]
  },
  {
   "cell_type": "code",
   "execution_count": 66,
   "metadata": {},
   "outputs": [],
   "source": [
    "import math\n",
    "\n",
    "housing_test['SalePrice'] = ridge.predict(housing_test)"
   ]
  },
  {
   "cell_type": "code",
   "execution_count": 67,
   "metadata": {
    "scrolled": true
   },
   "outputs": [
    {
     "data": {
      "text/html": [
       "<div>\n",
       "<style scoped>\n",
       "    .dataframe tbody tr th:only-of-type {\n",
       "        vertical-align: middle;\n",
       "    }\n",
       "\n",
       "    .dataframe tbody tr th {\n",
       "        vertical-align: top;\n",
       "    }\n",
       "\n",
       "    .dataframe thead th {\n",
       "        text-align: right;\n",
       "    }\n",
       "</style>\n",
       "<table border=\"1\" class=\"dataframe\">\n",
       "  <thead>\n",
       "    <tr style=\"text-align: right;\">\n",
       "      <th></th>\n",
       "      <th>MSSubClass</th>\n",
       "      <th>LotArea</th>\n",
       "      <th>OverallQual</th>\n",
       "      <th>OverallCond</th>\n",
       "      <th>YearBuilt</th>\n",
       "      <th>YearRemodAdd</th>\n",
       "      <th>MasVnrArea</th>\n",
       "      <th>BsmtFinSF1</th>\n",
       "      <th>BsmtFinSF2</th>\n",
       "      <th>BsmtUnfSF</th>\n",
       "      <th>...</th>\n",
       "      <th>SaleType_6</th>\n",
       "      <th>SaleType_7</th>\n",
       "      <th>SaleType_8</th>\n",
       "      <th>SaleCondition_1</th>\n",
       "      <th>SaleCondition_2</th>\n",
       "      <th>SaleCondition_3</th>\n",
       "      <th>SaleCondition_4</th>\n",
       "      <th>SaleCondition_5</th>\n",
       "      <th>Id</th>\n",
       "      <th>SalePrice</th>\n",
       "    </tr>\n",
       "  </thead>\n",
       "  <tbody>\n",
       "    <tr>\n",
       "      <th>0</th>\n",
       "      <td>-1.159029</td>\n",
       "      <td>0.0</td>\n",
       "      <td>-0.772552</td>\n",
       "      <td>0.391237</td>\n",
       "      <td>-0.340510</td>\n",
       "      <td>-1.113625</td>\n",
       "      <td>-0.810293</td>\n",
       "      <td>0.555771</td>\n",
       "      <td>2.722693</td>\n",
       "      <td>-0.661873</td>\n",
       "      <td>...</td>\n",
       "      <td>0</td>\n",
       "      <td>0</td>\n",
       "      <td>1</td>\n",
       "      <td>0</td>\n",
       "      <td>0</td>\n",
       "      <td>0</td>\n",
       "      <td>1</td>\n",
       "      <td>0</td>\n",
       "      <td>1461</td>\n",
       "      <td>11.618142</td>\n",
       "    </tr>\n",
       "    <tr>\n",
       "      <th>1</th>\n",
       "      <td>-1.159029</td>\n",
       "      <td>0.0</td>\n",
       "      <td>-0.063185</td>\n",
       "      <td>0.391237</td>\n",
       "      <td>-0.439565</td>\n",
       "      <td>-1.257229</td>\n",
       "      <td>1.127038</td>\n",
       "      <td>0.976997</td>\n",
       "      <td>-0.367305</td>\n",
       "      <td>-0.352724</td>\n",
       "      <td>...</td>\n",
       "      <td>0</td>\n",
       "      <td>0</td>\n",
       "      <td>1</td>\n",
       "      <td>0</td>\n",
       "      <td>0</td>\n",
       "      <td>0</td>\n",
       "      <td>1</td>\n",
       "      <td>0</td>\n",
       "      <td>1462</td>\n",
       "      <td>11.913120</td>\n",
       "    </tr>\n",
       "    <tr>\n",
       "      <th>2</th>\n",
       "      <td>0.488915</td>\n",
       "      <td>0.0</td>\n",
       "      <td>-0.772552</td>\n",
       "      <td>-0.507284</td>\n",
       "      <td>0.848148</td>\n",
       "      <td>0.657493</td>\n",
       "      <td>-0.810293</td>\n",
       "      <td>0.875496</td>\n",
       "      <td>-0.367305</td>\n",
       "      <td>-0.964203</td>\n",
       "      <td>...</td>\n",
       "      <td>0</td>\n",
       "      <td>0</td>\n",
       "      <td>1</td>\n",
       "      <td>0</td>\n",
       "      <td>0</td>\n",
       "      <td>0</td>\n",
       "      <td>1</td>\n",
       "      <td>0</td>\n",
       "      <td>1463</td>\n",
       "      <td>12.058862</td>\n",
       "    </tr>\n",
       "    <tr>\n",
       "      <th>3</th>\n",
       "      <td>0.488915</td>\n",
       "      <td>0.0</td>\n",
       "      <td>-0.063185</td>\n",
       "      <td>0.391237</td>\n",
       "      <td>0.881166</td>\n",
       "      <td>0.657493</td>\n",
       "      <td>0.689467</td>\n",
       "      <td>0.704407</td>\n",
       "      <td>-0.367305</td>\n",
       "      <td>-0.539123</td>\n",
       "      <td>...</td>\n",
       "      <td>0</td>\n",
       "      <td>0</td>\n",
       "      <td>1</td>\n",
       "      <td>0</td>\n",
       "      <td>0</td>\n",
       "      <td>0</td>\n",
       "      <td>1</td>\n",
       "      <td>0</td>\n",
       "      <td>1464</td>\n",
       "      <td>12.165330</td>\n",
       "    </tr>\n",
       "    <tr>\n",
       "      <th>4</th>\n",
       "      <td>1.353941</td>\n",
       "      <td>0.0</td>\n",
       "      <td>1.355551</td>\n",
       "      <td>-0.507284</td>\n",
       "      <td>0.683057</td>\n",
       "      <td>0.370284</td>\n",
       "      <td>-0.810293</td>\n",
       "      <td>0.246009</td>\n",
       "      <td>-0.367305</td>\n",
       "      <td>1.036173</td>\n",
       "      <td>...</td>\n",
       "      <td>0</td>\n",
       "      <td>0</td>\n",
       "      <td>1</td>\n",
       "      <td>0</td>\n",
       "      <td>0</td>\n",
       "      <td>0</td>\n",
       "      <td>1</td>\n",
       "      <td>0</td>\n",
       "      <td>1465</td>\n",
       "      <td>12.173794</td>\n",
       "    </tr>\n",
       "  </tbody>\n",
       "</table>\n",
       "<p>5 rows × 260 columns</p>\n",
       "</div>"
      ],
      "text/plain": [
       "   MSSubClass  LotArea  OverallQual  OverallCond  YearBuilt  YearRemodAdd  \\\n",
       "0   -1.159029      0.0    -0.772552     0.391237  -0.340510     -1.113625   \n",
       "1   -1.159029      0.0    -0.063185     0.391237  -0.439565     -1.257229   \n",
       "2    0.488915      0.0    -0.772552    -0.507284   0.848148      0.657493   \n",
       "3    0.488915      0.0    -0.063185     0.391237   0.881166      0.657493   \n",
       "4    1.353941      0.0     1.355551    -0.507284   0.683057      0.370284   \n",
       "\n",
       "   MasVnrArea  BsmtFinSF1  BsmtFinSF2  BsmtUnfSF  ...  SaleType_6  SaleType_7  \\\n",
       "0   -0.810293    0.555771    2.722693  -0.661873  ...           0           0   \n",
       "1    1.127038    0.976997   -0.367305  -0.352724  ...           0           0   \n",
       "2   -0.810293    0.875496   -0.367305  -0.964203  ...           0           0   \n",
       "3    0.689467    0.704407   -0.367305  -0.539123  ...           0           0   \n",
       "4   -0.810293    0.246009   -0.367305   1.036173  ...           0           0   \n",
       "\n",
       "   SaleType_8  SaleCondition_1  SaleCondition_2  SaleCondition_3  \\\n",
       "0           1                0                0                0   \n",
       "1           1                0                0                0   \n",
       "2           1                0                0                0   \n",
       "3           1                0                0                0   \n",
       "4           1                0                0                0   \n",
       "\n",
       "   SaleCondition_4  SaleCondition_5    Id  SalePrice  \n",
       "0                1                0  1461  11.618142  \n",
       "1                1                0  1462  11.913120  \n",
       "2                1                0  1463  12.058862  \n",
       "3                1                0  1464  12.165330  \n",
       "4                1                0  1465  12.173794  \n",
       "\n",
       "[5 rows x 260 columns]"
      ]
     },
     "execution_count": 67,
     "metadata": {},
     "output_type": "execute_result"
    }
   ],
   "source": [
    "housing_test.head()"
   ]
  },
  {
   "cell_type": "code",
   "execution_count": 68,
   "metadata": {},
   "outputs": [],
   "source": [
    "housing_test['SalePrice'] = housing_test['SalePrice'] .apply(lambda x: math.exp(x))"
   ]
  },
  {
   "cell_type": "code",
   "execution_count": 69,
   "metadata": {
    "scrolled": true
   },
   "outputs": [
    {
     "data": {
      "text/html": [
       "<div>\n",
       "<style scoped>\n",
       "    .dataframe tbody tr th:only-of-type {\n",
       "        vertical-align: middle;\n",
       "    }\n",
       "\n",
       "    .dataframe tbody tr th {\n",
       "        vertical-align: top;\n",
       "    }\n",
       "\n",
       "    .dataframe thead th {\n",
       "        text-align: right;\n",
       "    }\n",
       "</style>\n",
       "<table border=\"1\" class=\"dataframe\">\n",
       "  <thead>\n",
       "    <tr style=\"text-align: right;\">\n",
       "      <th></th>\n",
       "      <th>MSSubClass</th>\n",
       "      <th>LotArea</th>\n",
       "      <th>OverallQual</th>\n",
       "      <th>OverallCond</th>\n",
       "      <th>YearBuilt</th>\n",
       "      <th>YearRemodAdd</th>\n",
       "      <th>MasVnrArea</th>\n",
       "      <th>BsmtFinSF1</th>\n",
       "      <th>BsmtFinSF2</th>\n",
       "      <th>BsmtUnfSF</th>\n",
       "      <th>...</th>\n",
       "      <th>SaleType_6</th>\n",
       "      <th>SaleType_7</th>\n",
       "      <th>SaleType_8</th>\n",
       "      <th>SaleCondition_1</th>\n",
       "      <th>SaleCondition_2</th>\n",
       "      <th>SaleCondition_3</th>\n",
       "      <th>SaleCondition_4</th>\n",
       "      <th>SaleCondition_5</th>\n",
       "      <th>Id</th>\n",
       "      <th>SalePrice</th>\n",
       "    </tr>\n",
       "  </thead>\n",
       "  <tbody>\n",
       "    <tr>\n",
       "      <th>0</th>\n",
       "      <td>-1.159029</td>\n",
       "      <td>0.0</td>\n",
       "      <td>-0.772552</td>\n",
       "      <td>0.391237</td>\n",
       "      <td>-0.340510</td>\n",
       "      <td>-1.113625</td>\n",
       "      <td>-0.810293</td>\n",
       "      <td>0.555771</td>\n",
       "      <td>2.722693</td>\n",
       "      <td>-0.661873</td>\n",
       "      <td>...</td>\n",
       "      <td>0</td>\n",
       "      <td>0</td>\n",
       "      <td>1</td>\n",
       "      <td>0</td>\n",
       "      <td>0</td>\n",
       "      <td>0</td>\n",
       "      <td>1</td>\n",
       "      <td>0</td>\n",
       "      <td>1461</td>\n",
       "      <td>111095.111870</td>\n",
       "    </tr>\n",
       "    <tr>\n",
       "      <th>1</th>\n",
       "      <td>-1.159029</td>\n",
       "      <td>0.0</td>\n",
       "      <td>-0.063185</td>\n",
       "      <td>0.391237</td>\n",
       "      <td>-0.439565</td>\n",
       "      <td>-1.257229</td>\n",
       "      <td>1.127038</td>\n",
       "      <td>0.976997</td>\n",
       "      <td>-0.367305</td>\n",
       "      <td>-0.352724</td>\n",
       "      <td>...</td>\n",
       "      <td>0</td>\n",
       "      <td>0</td>\n",
       "      <td>1</td>\n",
       "      <td>0</td>\n",
       "      <td>0</td>\n",
       "      <td>0</td>\n",
       "      <td>1</td>\n",
       "      <td>0</td>\n",
       "      <td>1462</td>\n",
       "      <td>149211.528657</td>\n",
       "    </tr>\n",
       "    <tr>\n",
       "      <th>2</th>\n",
       "      <td>0.488915</td>\n",
       "      <td>0.0</td>\n",
       "      <td>-0.772552</td>\n",
       "      <td>-0.507284</td>\n",
       "      <td>0.848148</td>\n",
       "      <td>0.657493</td>\n",
       "      <td>-0.810293</td>\n",
       "      <td>0.875496</td>\n",
       "      <td>-0.367305</td>\n",
       "      <td>-0.964203</td>\n",
       "      <td>...</td>\n",
       "      <td>0</td>\n",
       "      <td>0</td>\n",
       "      <td>1</td>\n",
       "      <td>0</td>\n",
       "      <td>0</td>\n",
       "      <td>0</td>\n",
       "      <td>1</td>\n",
       "      <td>0</td>\n",
       "      <td>1463</td>\n",
       "      <td>172622.499203</td>\n",
       "    </tr>\n",
       "    <tr>\n",
       "      <th>3</th>\n",
       "      <td>0.488915</td>\n",
       "      <td>0.0</td>\n",
       "      <td>-0.063185</td>\n",
       "      <td>0.391237</td>\n",
       "      <td>0.881166</td>\n",
       "      <td>0.657493</td>\n",
       "      <td>0.689467</td>\n",
       "      <td>0.704407</td>\n",
       "      <td>-0.367305</td>\n",
       "      <td>-0.539123</td>\n",
       "      <td>...</td>\n",
       "      <td>0</td>\n",
       "      <td>0</td>\n",
       "      <td>1</td>\n",
       "      <td>0</td>\n",
       "      <td>0</td>\n",
       "      <td>0</td>\n",
       "      <td>1</td>\n",
       "      <td>0</td>\n",
       "      <td>1464</td>\n",
       "      <td>192015.260892</td>\n",
       "    </tr>\n",
       "    <tr>\n",
       "      <th>4</th>\n",
       "      <td>1.353941</td>\n",
       "      <td>0.0</td>\n",
       "      <td>1.355551</td>\n",
       "      <td>-0.507284</td>\n",
       "      <td>0.683057</td>\n",
       "      <td>0.370284</td>\n",
       "      <td>-0.810293</td>\n",
       "      <td>0.246009</td>\n",
       "      <td>-0.367305</td>\n",
       "      <td>1.036173</td>\n",
       "      <td>...</td>\n",
       "      <td>0</td>\n",
       "      <td>0</td>\n",
       "      <td>1</td>\n",
       "      <td>0</td>\n",
       "      <td>0</td>\n",
       "      <td>0</td>\n",
       "      <td>1</td>\n",
       "      <td>0</td>\n",
       "      <td>1465</td>\n",
       "      <td>193647.393057</td>\n",
       "    </tr>\n",
       "  </tbody>\n",
       "</table>\n",
       "<p>5 rows × 260 columns</p>\n",
       "</div>"
      ],
      "text/plain": [
       "   MSSubClass  LotArea  OverallQual  OverallCond  YearBuilt  YearRemodAdd  \\\n",
       "0   -1.159029      0.0    -0.772552     0.391237  -0.340510     -1.113625   \n",
       "1   -1.159029      0.0    -0.063185     0.391237  -0.439565     -1.257229   \n",
       "2    0.488915      0.0    -0.772552    -0.507284   0.848148      0.657493   \n",
       "3    0.488915      0.0    -0.063185     0.391237   0.881166      0.657493   \n",
       "4    1.353941      0.0     1.355551    -0.507284   0.683057      0.370284   \n",
       "\n",
       "   MasVnrArea  BsmtFinSF1  BsmtFinSF2  BsmtUnfSF  ...  SaleType_6  SaleType_7  \\\n",
       "0   -0.810293    0.555771    2.722693  -0.661873  ...           0           0   \n",
       "1    1.127038    0.976997   -0.367305  -0.352724  ...           0           0   \n",
       "2   -0.810293    0.875496   -0.367305  -0.964203  ...           0           0   \n",
       "3    0.689467    0.704407   -0.367305  -0.539123  ...           0           0   \n",
       "4   -0.810293    0.246009   -0.367305   1.036173  ...           0           0   \n",
       "\n",
       "   SaleType_8  SaleCondition_1  SaleCondition_2  SaleCondition_3  \\\n",
       "0           1                0                0                0   \n",
       "1           1                0                0                0   \n",
       "2           1                0                0                0   \n",
       "3           1                0                0                0   \n",
       "4           1                0                0                0   \n",
       "\n",
       "   SaleCondition_4  SaleCondition_5    Id      SalePrice  \n",
       "0                1                0  1461  111095.111870  \n",
       "1                1                0  1462  149211.528657  \n",
       "2                1                0  1463  172622.499203  \n",
       "3                1                0  1464  192015.260892  \n",
       "4                1                0  1465  193647.393057  \n",
       "\n",
       "[5 rows x 260 columns]"
      ]
     },
     "execution_count": 69,
     "metadata": {},
     "output_type": "execute_result"
    }
   ],
   "source": [
    "housing_test.head()"
   ]
  },
  {
   "cell_type": "code",
   "execution_count": 70,
   "metadata": {},
   "outputs": [],
   "source": [
    "submission =housing_test[['Id', 'SalePrice']].sort_values(ascending = True, by ='Id')"
   ]
  },
  {
   "cell_type": "code",
   "execution_count": 71,
   "metadata": {
    "scrolled": true
   },
   "outputs": [
    {
     "data": {
      "text/html": [
       "<div>\n",
       "<style scoped>\n",
       "    .dataframe tbody tr th:only-of-type {\n",
       "        vertical-align: middle;\n",
       "    }\n",
       "\n",
       "    .dataframe tbody tr th {\n",
       "        vertical-align: top;\n",
       "    }\n",
       "\n",
       "    .dataframe thead th {\n",
       "        text-align: right;\n",
       "    }\n",
       "</style>\n",
       "<table border=\"1\" class=\"dataframe\">\n",
       "  <thead>\n",
       "    <tr style=\"text-align: right;\">\n",
       "      <th></th>\n",
       "      <th>Id</th>\n",
       "      <th>SalePrice</th>\n",
       "    </tr>\n",
       "  </thead>\n",
       "  <tbody>\n",
       "    <tr>\n",
       "      <th>0</th>\n",
       "      <td>1461</td>\n",
       "      <td>111095.111870</td>\n",
       "    </tr>\n",
       "    <tr>\n",
       "      <th>1</th>\n",
       "      <td>1462</td>\n",
       "      <td>149211.528657</td>\n",
       "    </tr>\n",
       "    <tr>\n",
       "      <th>2</th>\n",
       "      <td>1463</td>\n",
       "      <td>172622.499203</td>\n",
       "    </tr>\n",
       "    <tr>\n",
       "      <th>3</th>\n",
       "      <td>1464</td>\n",
       "      <td>192015.260892</td>\n",
       "    </tr>\n",
       "    <tr>\n",
       "      <th>4</th>\n",
       "      <td>1465</td>\n",
       "      <td>193647.393057</td>\n",
       "    </tr>\n",
       "  </tbody>\n",
       "</table>\n",
       "</div>"
      ],
      "text/plain": [
       "     Id      SalePrice\n",
       "0  1461  111095.111870\n",
       "1  1462  149211.528657\n",
       "2  1463  172622.499203\n",
       "3  1464  192015.260892\n",
       "4  1465  193647.393057"
      ]
     },
     "execution_count": 71,
     "metadata": {},
     "output_type": "execute_result"
    }
   ],
   "source": [
    "submission.head()\n"
   ]
  },
  {
   "cell_type": "code",
   "execution_count": 72,
   "metadata": {},
   "outputs": [],
   "source": [
    "submission.to_csv('submission.csv', index = False)"
   ]
  },
  {
   "cell_type": "code",
   "execution_count": null,
   "metadata": {},
   "outputs": [],
   "source": [
    "#############################################################################################################"
   ]
  },
  {
   "cell_type": "code",
   "execution_count": null,
   "metadata": {},
   "outputs": [],
   "source": [
    "###################################################################################################################"
   ]
  },
  {
   "cell_type": "code",
   "execution_count": null,
   "metadata": {},
   "outputs": [],
   "source": []
  },
  {
   "cell_type": "code",
   "execution_count": null,
   "metadata": {},
   "outputs": [],
   "source": []
  },
  {
   "cell_type": "markdown",
   "metadata": {},
   "source": [
    "# HyperParameter Tuning"
   ]
  },
  {
   "cell_type": "code",
   "execution_count": null,
   "metadata": {},
   "outputs": [],
   "source": [
    "from sklearn import preprocessing\n",
    "from sklearn.preprocessing import LabelEncoder\n",
    "from sklearn import utils\n",
    "\n",
    "lab_enc = preprocessing.LabelEncoder()\n",
    "y_test_encoded = lab_enc.fit_transform(y_test)\n",
    "print(y_test_encoded)\n",
    "\n",
    "print(utils.multiclass.type_of_target(y_test))\n",
    "print(utils.multiclass.type_of_target(y_test.astype('int')))\n",
    "print(utils.multiclass.type_of_target(y_test_encoded))"
   ]
  },
  {
   "cell_type": "code",
   "execution_count": null,
   "metadata": {},
   "outputs": [],
   "source": [
    "from sklearn import metrics\n",
    "from sklearn.metrics import confusion_matrix\n",
    "mistakes = 0 # the mistakes each individual tree makes\n",
    "confusion_pair = 0\n",
    "\n",
    "n_pairs = 0.5 * rf.n_estimators * (rf.n_estimators-1)\n",
    "for idx, tree in enumerate(rf.estimators_):\n",
    "    mistakes += confusion_matrix(tree.predict(X_test), y_test)\n",
    "    for idx2, tree2 in enumerate(rf.estimators_):\n",
    "            if idx2 == idx: continue\n",
    "            confusion_pair += confusion_matrix(tree.predict(X_test), tree2.predict(X_test))   \n",
    "print(\"Average per Tree Confusion:\")\n",
    "print(mistakes/rf.n_estimators*1.0)\n",
    "print(\"Aggregate Pairwise Confusion:\")\n",
    "print(confusion_pair/n_pairs)"
   ]
  },
  {
   "cell_type": "code",
   "execution_count": null,
   "metadata": {
    "scrolled": true
   },
   "outputs": [],
   "source": [
    "en_prediction = rf.predict(X_test)\n",
    "en_mse = mean_squared_error(en_prediction, y_test)\n",
    "en_rsme = np.sqrt(en_mse)\n",
    "print('RF RMSE: %.2f' % en_rsme)"
   ]
  },
  {
   "cell_type": "markdown",
   "metadata": {},
   "source": [
    "## Hyperparameter tuning RF"
   ]
  },
  {
   "cell_type": "code",
   "execution_count": null,
   "metadata": {},
   "outputs": [],
   "source": [
    "from sklearn.model_selection import RandomizedSearchCV"
   ]
  },
  {
   "cell_type": "code",
   "execution_count": null,
   "metadata": {},
   "outputs": [],
   "source": [
    "print('Parameters currently in use:\\n')\n",
    "pprint(ridge.get_params())"
   ]
  },
  {
   "cell_type": "code",
   "execution_count": null,
   "metadata": {},
   "outputs": [],
   "source": [
    "###### number of trees in random forest\n",
    "n_estimators =[int(x) for x in np.linspace(start =200, stop = \n",
    "                                           2000, num=10)]"
   ]
  },
  {
   "cell_type": "code",
   "execution_count": null,
   "metadata": {},
   "outputs": [],
   "source": [
    "##### Number of features to consider at every split\n",
    "max_features = ['auto', 'sqrt']"
   ]
  },
  {
   "cell_type": "code",
   "execution_count": null,
   "metadata": {},
   "outputs": [],
   "source": [
    "#### Max number of levels in tree\n",
    "max_depth = [int(x) for x in np.linspace(20, 110, num=11)]\n",
    "max_depth.append(None)"
   ]
  },
  {
   "cell_type": "code",
   "execution_count": null,
   "metadata": {},
   "outputs": [],
   "source": [
    "###### min samples split a node\n",
    "min_samples_split = [2, 5, 10]"
   ]
  },
  {
   "cell_type": "code",
   "execution_count": null,
   "metadata": {},
   "outputs": [],
   "source": [
    "#### Minimum number of samples required to split a node\n",
    "min_samples_leaf = [1, 2, 4]"
   ]
  },
  {
   "cell_type": "code",
   "execution_count": null,
   "metadata": {},
   "outputs": [],
   "source": [
    "#### Method of selecting samples for training each tree\n",
    "bootstrap = [True, False]"
   ]
  },
  {
   "cell_type": "code",
   "execution_count": null,
   "metadata": {},
   "outputs": [],
   "source": [
    "#### Create random grid\n",
    "random_grid ={'n_estimators':n_estimators,\n",
    "             'max_features': max_features,\n",
    "             'max_depth': max_depth,\n",
    "             'min_samples_split': min_samples_split,\n",
    "             'min_samples_leaf': min_samples_leaf,\n",
    "             'bootstrap':bootstrap}\n",
    "pprint(random_grid)"
   ]
  },
  {
   "cell_type": "code",
   "execution_count": null,
   "metadata": {},
   "outputs": [],
   "source": [
    "#### Using random grid to search for best hyperparameters\n",
    "### base mode\n",
    "rf_random = RandomizedSearchCV(estimator = rf, param_distributions =\n",
    "                              random_grid, n_iter = 100, cv = 3, verbose =2,\n",
    "                              random_state=42,\n",
    "                              n_jobs=-1)"
   ]
  },
  {
   "cell_type": "code",
   "execution_count": null,
   "metadata": {},
   "outputs": [],
   "source": [
    "#### Value error fix for refit model into rf_random\n",
    "\n",
    "from sklearn import preprocessing\n",
    "from sklearn.preprocessing import LabelEncoder\n",
    "from sklearn import utils\n",
    "\n",
    "lab_enc = preprocessing.LabelEncoder()\n",
    "y_train_encoded = lab_enc.fit_transform(y_train)\n",
    "print(y_train_encoded)\n",
    "\n",
    "print(utils.multiclass.type_of_target(y_train))\n",
    "print(utils.multiclass.type_of_target(y_train.astype('int')))\n",
    "print(utils.multiclass.type_of_target(y_train_encoded))"
   ]
  },
  {
   "cell_type": "markdown",
   "metadata": {},
   "source": [
    "### New Model Fitting"
   ]
  },
  {
   "cell_type": "code",
   "execution_count": null,
   "metadata": {},
   "outputs": [],
   "source": [
    "rf_random.fit(X_train, y_train_encoded)"
   ]
  },
  {
   "cell_type": "code",
   "execution_count": null,
   "metadata": {},
   "outputs": [],
   "source": [
    "#### best parameters\n",
    "rf_random.best_params_"
   ]
  },
  {
   "cell_type": "markdown",
   "metadata": {},
   "source": [
    "### Ridge hyper parameters"
   ]
  },
  {
   "cell_type": "code",
   "execution_count": null,
   "metadata": {},
   "outputs": [],
   "source": [
    "from scipy.stats import uniform as sp_rand\n",
    "print('Parameters currently in use:\\n')\n",
    "pprint(ridge.get_params())"
   ]
  },
  {
   "cell_type": "code",
   "execution_count": null,
   "metadata": {},
   "outputs": [],
   "source": [
    "param_grid ={'alpha':sp_rand()}\n",
    "model = Ridge()\n",
    "research = RandomizedSearchCV(estimator=model, param_distributions=param_grid,\n",
    "                             n_iter = 100)"
   ]
  },
  {
   "cell_type": "code",
   "execution_count": null,
   "metadata": {},
   "outputs": [],
   "source": [
    "research.fit(X_train, y_train)\n",
    "print(research)"
   ]
  },
  {
   "cell_type": "code",
   "execution_count": null,
   "metadata": {},
   "outputs": [],
   "source": [
    "print(research.best_score_)\n",
    "print(research.best_estimator_.alpha)"
   ]
  },
  {
   "cell_type": "code",
   "execution_count": null,
   "metadata": {},
   "outputs": [],
   "source": []
  },
  {
   "cell_type": "code",
   "execution_count": null,
   "metadata": {},
   "outputs": [],
   "source": []
  }
 ],
 "metadata": {
  "kernelspec": {
   "display_name": "Python 3",
   "language": "python",
   "name": "python3"
  },
  "language_info": {
   "codemirror_mode": {
    "name": "ipython",
    "version": 3
   },
   "file_extension": ".py",
   "mimetype": "text/x-python",
   "name": "python",
   "nbconvert_exporter": "python",
   "pygments_lexer": "ipython3",
   "version": "3.7.3"
  }
 },
 "nbformat": 4,
 "nbformat_minor": 2
}
