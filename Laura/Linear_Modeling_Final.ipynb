{
 "cells": [
  {
   "cell_type": "markdown",
   "metadata": {},
   "source": [
    "# Ames Housing ML Challenge"
   ]
  },
  {
   "cell_type": "markdown",
   "metadata": {},
   "source": [
    "# Linear Modeling"
   ]
  },
  {
   "cell_type": "code",
   "execution_count": 116,
   "metadata": {},
   "outputs": [],
   "source": [
    "import pandas as pd\n",
    "import numpy as np"
   ]
  },
  {
   "cell_type": "code",
   "execution_count": null,
   "metadata": {},
   "outputs": [],
   "source": []
  },
  {
   "cell_type": "code",
   "execution_count": 117,
   "metadata": {},
   "outputs": [],
   "source": [
    "housing_train = pd.read_csv('housing_train.csv')\n",
    "housing_test = pd.read_csv('housing_test.csv')\n",
    "\n",
    "y_housing = pd.read_csv('y_housing.csv')\n"
   ]
  },
  {
   "cell_type": "code",
   "execution_count": null,
   "metadata": {},
   "outputs": [],
   "source": [
    "housing_test.head()"
   ]
  },
  {
   "cell_type": "code",
   "execution_count": 118,
   "metadata": {},
   "outputs": [
    {
     "name": "stdout",
     "output_type": "stream",
     "text": [
      "Full Train dimension: (1353, 243)\n",
      "Y train dimension: (1353, 1)\n",
      "Test data dimension: (1459, 243)\n"
     ]
    }
   ],
   "source": [
    "print('Full Train dimension:', housing_train.shape)\n",
    "print('Y train dimension:', y_housing.shape)\n",
    "print('Test data dimension:', housing_test.shape)\n",
    "\n"
   ]
  },
  {
   "cell_type": "code",
   "execution_count": 119,
   "metadata": {},
   "outputs": [],
   "source": [
    "from sklearn import linear_model\n",
    "from sklearn.linear_model import ElasticNet, Lasso, Ridge, SGDRegressor\n",
    "from sklearn.ensemble import RandomForestRegressor,  GradientBoostingRegressor\n",
    "from sklearn.kernel_ridge import KernelRidge\n",
    "from sklearn.base import BaseEstimator, TransformerMixin, RegressorMixin, clone\n",
    "from sklearn.model_selection import  train_test_split\n",
    "from sklearn.metrics import mean_squared_error, log_loss\n",
    "from sklearn.decomposition import PCA\n",
    "\n",
    "\n",
    "\n",
    "import sklearn.model_selection as ms\n",
    "\n",
    "from sklearn import ensemble\n",
    "from sklearn.ensemble import RandomForestRegressor\n",
    "from pprint import pprint\n",
    "from sklearn.svm import SVR"
   ]
  },
  {
   "cell_type": "code",
   "execution_count": 120,
   "metadata": {},
   "outputs": [],
   "source": [
    "X_train, X_test, y_train, y_test = train_test_split(housing_train, y_housing, test_size = 0.30, random_state = 42)"
   ]
  },
  {
   "cell_type": "code",
   "execution_count": 121,
   "metadata": {},
   "outputs": [],
   "source": [
    "ridge = linear_model.Ridge(alpha = 25, normalize=False, copy_X= True, fit_intercept = True)\n",
    "lasso = linear_model.Lasso(alpha= 0, normalize = True)\n",
    "elasticnet = linear_model.ElasticNet(alpha = 0.01, l1_ratio=0.5, normalize=False)\n",
    "clf = linear_model.SGDRegressor(max_iter=1000, tol=1e-3)\n",
    "\n",
    "gbm = ensemble.GradientBoostingRegressor()\n",
    "rf = ensemble.RandomForestRegressor(n_estimators = 400, min_samples_split=2,\n",
    "                                    min_samples_leaf = 1, max_features = 'sqrt',\n",
    "                                    max_depth = None, bootstrap = False, random_state=42)\n",
    "\n"
   ]
  },
  {
   "cell_type": "code",
   "execution_count": 122,
   "metadata": {},
   "outputs": [
    {
     "ename": "SyntaxError",
     "evalue": "invalid syntax (<ipython-input-122-9cd7b7c62ae1>, line 1)",
     "output_type": "error",
     "traceback": [
      "\u001b[0;36m  File \u001b[0;32m\"<ipython-input-122-9cd7b7c62ae1>\"\u001b[0;36m, line \u001b[0;32m1\u001b[0m\n\u001b[0;31m    Parameters currently in use:\u001b[0m\n\u001b[0m                       ^\u001b[0m\n\u001b[0;31mSyntaxError\u001b[0m\u001b[0;31m:\u001b[0m invalid syntax\n"
     ]
    }
   ],
   "source": [
    "Parameters currently in use:\n",
    "\n",
    "{'alpha': 1,\n",
    " 'copy_X': True,\n",
    " 'fit_intercept': True,\n",
    " 'max_iter': None,\n",
    " 'normalize': True,\n",
    " 'random_state': None,\n",
    " 'solver': 'auto',\n",
    " 'tol': 0.001}"
   ]
  },
  {
   "cell_type": "code",
   "execution_count": 123,
   "metadata": {},
   "outputs": [
    {
     "data": {
      "text/plain": [
       "(1353, 243)"
      ]
     },
     "execution_count": 123,
     "metadata": {},
     "output_type": "execute_result"
    }
   ],
   "source": [
    "housing_train.shape"
   ]
  },
  {
   "cell_type": "code",
   "execution_count": 124,
   "metadata": {},
   "outputs": [
    {
     "data": {
      "text/plain": [
       "(1353, 1)"
      ]
     },
     "execution_count": 124,
     "metadata": {},
     "output_type": "execute_result"
    }
   ],
   "source": [
    "y_housing.shape"
   ]
  },
  {
   "cell_type": "code",
   "execution_count": 125,
   "metadata": {},
   "outputs": [],
   "source": [
    "modelList =[ridge, lasso, elasticnet, clf, gbm, rf]\n",
    "modelSeries= pd.Series(modelList, index =[ 'Ridge', 'Lasso', 'Elasticnet', 'SGD', 'XGboost', 'Random Forest'])\n",
    "\n"
   ]
  },
  {
   "cell_type": "code",
   "execution_count": 126,
   "metadata": {},
   "outputs": [
    {
     "name": "stderr",
     "output_type": "stream",
     "text": [
      "/Users/lauraelliott/anaconda3/lib/python3.7/site-packages/ipykernel_launcher.py:1: UserWarning: With alpha=0, this algorithm does not converge well. You are advised to use the LinearRegression estimator\n",
      "  \"\"\"Entry point for launching an IPython kernel.\n",
      "/Users/lauraelliott/anaconda3/lib/python3.7/site-packages/sklearn/linear_model/coordinate_descent.py:478: UserWarning: Coordinate descent with no regularization may lead to unexpected results and is discouraged.\n",
      "  positive)\n",
      "/Users/lauraelliott/anaconda3/lib/python3.7/site-packages/sklearn/linear_model/coordinate_descent.py:492: ConvergenceWarning: Objective did not converge. You might want to increase the number of iterations. Fitting data with very small alpha may cause precision problems.\n",
      "  ConvergenceWarning)\n",
      "/Users/lauraelliott/anaconda3/lib/python3.7/site-packages/sklearn/utils/validation.py:761: DataConversionWarning: A column-vector y was passed when a 1d array was expected. Please change the shape of y to (n_samples, ), for example using ravel().\n",
      "  y = column_or_1d(y, warn=True)\n",
      "/Users/lauraelliott/anaconda3/lib/python3.7/site-packages/sklearn/utils/validation.py:761: DataConversionWarning: A column-vector y was passed when a 1d array was expected. Please change the shape of y to (n_samples, ), for example using ravel().\n",
      "  y = column_or_1d(y, warn=True)\n",
      "/Users/lauraelliott/anaconda3/lib/python3.7/site-packages/ipykernel_launcher.py:1: DataConversionWarning: A column-vector y was passed when a 1d array was expected. Please change the shape of y to (n_samples,), for example using ravel().\n",
      "  \"\"\"Entry point for launching an IPython kernel.\n"
     ]
    },
    {
     "data": {
      "text/plain": [
       "Ridge            Ridge(alpha=25, copy_X=True, fit_intercept=Tru...\n",
       "Lasso            Lasso(alpha=0, copy_X=True, fit_intercept=True...\n",
       "Elasticnet       ElasticNet(alpha=0.01, copy_X=True, fit_interc...\n",
       "SGD              SGDRegressor(alpha=0.0001, average=False, earl...\n",
       "XGboost          ([DecisionTreeRegressor(criterion='friedman_ms...\n",
       "Random Forest    (DecisionTreeRegressor(criterion='mse', max_de...\n",
       "dtype: object"
      ]
     },
     "execution_count": 126,
     "metadata": {},
     "output_type": "execute_result"
    }
   ],
   "source": [
    "modelSeries.apply(lambda x:x.fit(X_train, y_train))"
   ]
  },
  {
   "cell_type": "code",
   "execution_count": 127,
   "metadata": {},
   "outputs": [
    {
     "data": {
      "text/html": [
       "<div>\n",
       "<style scoped>\n",
       "    .dataframe tbody tr th:only-of-type {\n",
       "        vertical-align: middle;\n",
       "    }\n",
       "\n",
       "    .dataframe tbody tr th {\n",
       "        vertical-align: top;\n",
       "    }\n",
       "\n",
       "    .dataframe thead th {\n",
       "        text-align: right;\n",
       "    }\n",
       "</style>\n",
       "<table border=\"1\" class=\"dataframe\">\n",
       "  <thead>\n",
       "    <tr style=\"text-align: right;\">\n",
       "      <th></th>\n",
       "      <th>train score</th>\n",
       "      <th>test score</th>\n",
       "      <th>rmse</th>\n",
       "    </tr>\n",
       "  </thead>\n",
       "  <tbody>\n",
       "    <tr>\n",
       "      <th>Ridge</th>\n",
       "      <td>9.181980e-01</td>\n",
       "      <td>9.104638e-01</td>\n",
       "      <td>1.074505e-01</td>\n",
       "    </tr>\n",
       "    <tr>\n",
       "      <th>Lasso</th>\n",
       "      <td>9.427473e-01</td>\n",
       "      <td>8.743614e-01</td>\n",
       "      <td>1.272831e-01</td>\n",
       "    </tr>\n",
       "    <tr>\n",
       "      <th>Elasticnet</th>\n",
       "      <td>8.800984e-01</td>\n",
       "      <td>8.875920e-01</td>\n",
       "      <td>1.203948e-01</td>\n",
       "    </tr>\n",
       "    <tr>\n",
       "      <th>SGD</th>\n",
       "      <td>-1.649077e+30</td>\n",
       "      <td>-1.628790e+30</td>\n",
       "      <td>4.582915e+14</td>\n",
       "    </tr>\n",
       "    <tr>\n",
       "      <th>XGboost</th>\n",
       "      <td>9.550343e-01</td>\n",
       "      <td>8.717900e-01</td>\n",
       "      <td>1.285790e-01</td>\n",
       "    </tr>\n",
       "    <tr>\n",
       "      <th>Random Forest</th>\n",
       "      <td>1.000000e+00</td>\n",
       "      <td>8.752501e-01</td>\n",
       "      <td>1.268321e-01</td>\n",
       "    </tr>\n",
       "  </tbody>\n",
       "</table>\n",
       "</div>"
      ],
      "text/plain": [
       "                train score    test score          rmse\n",
       "Ridge          9.181980e-01  9.104638e-01  1.074505e-01\n",
       "Lasso          9.427473e-01  8.743614e-01  1.272831e-01\n",
       "Elasticnet     8.800984e-01  8.875920e-01  1.203948e-01\n",
       "SGD           -1.649077e+30 -1.628790e+30  4.582915e+14\n",
       "XGboost        9.550343e-01  8.717900e-01  1.285790e-01\n",
       "Random Forest  1.000000e+00  8.752501e-01  1.268321e-01"
      ]
     },
     "execution_count": 127,
     "metadata": {},
     "output_type": "execute_result"
    }
   ],
   "source": [
    "ans = pd.concat([modelSeries.apply(lambda x: x.score(X_train,y_train)),modelSeries.apply(lambda x: x.score(X_test,y_test)), \n",
    "                                    modelSeries.apply(lambda x: np.sqrt(mean_squared_error(x.predict(X_test), y_test)))],axis=1)\n",
    "\n",
    "ans.columns = ['train score', 'test score', 'rmse']\n",
    "ans"
   ]
  },
  {
   "cell_type": "markdown",
   "metadata": {},
   "source": [
    "## Prediction"
   ]
  },
  {
   "cell_type": "code",
   "execution_count": 128,
   "metadata": {},
   "outputs": [],
   "source": [
    "test = pd.read_csv('test.csv')"
   ]
  },
  {
   "cell_type": "code",
   "execution_count": 129,
   "metadata": {},
   "outputs": [],
   "source": [
    "import math\n",
    "\n",
    "housing_test['SalePrice'] = ridge.predict(housing_test)"
   ]
  },
  {
   "cell_type": "code",
   "execution_count": 130,
   "metadata": {
    "scrolled": true
   },
   "outputs": [
    {
     "data": {
      "text/html": [
       "<div>\n",
       "<style scoped>\n",
       "    .dataframe tbody tr th:only-of-type {\n",
       "        vertical-align: middle;\n",
       "    }\n",
       "\n",
       "    .dataframe tbody tr th {\n",
       "        vertical-align: top;\n",
       "    }\n",
       "\n",
       "    .dataframe thead th {\n",
       "        text-align: right;\n",
       "    }\n",
       "</style>\n",
       "<table border=\"1\" class=\"dataframe\">\n",
       "  <thead>\n",
       "    <tr style=\"text-align: right;\">\n",
       "      <th></th>\n",
       "      <th>MSSubClass</th>\n",
       "      <th>LotArea</th>\n",
       "      <th>OverallQual</th>\n",
       "      <th>OverallCond</th>\n",
       "      <th>YearBuilt</th>\n",
       "      <th>YearRemodAdd</th>\n",
       "      <th>MasVnrArea</th>\n",
       "      <th>BsmtUnfSF</th>\n",
       "      <th>TotalBsmtSF</th>\n",
       "      <th>2ndFlrSF</th>\n",
       "      <th>...</th>\n",
       "      <th>SaleType_6</th>\n",
       "      <th>SaleType_7</th>\n",
       "      <th>SaleType_8</th>\n",
       "      <th>SaleCondition_1</th>\n",
       "      <th>SaleCondition_2</th>\n",
       "      <th>SaleCondition_3</th>\n",
       "      <th>SaleCondition_4</th>\n",
       "      <th>SaleCondition_5</th>\n",
       "      <th>Id</th>\n",
       "      <th>SalePrice</th>\n",
       "    </tr>\n",
       "  </thead>\n",
       "  <tbody>\n",
       "    <tr>\n",
       "      <th>0</th>\n",
       "      <td>-1.153717</td>\n",
       "      <td>0.0</td>\n",
       "      <td>-0.750032</td>\n",
       "      <td>0.391824</td>\n",
       "      <td>-0.333148</td>\n",
       "      <td>-1.091311</td>\n",
       "      <td>-0.800730</td>\n",
       "      <td>-0.653618</td>\n",
       "      <td>-0.359978</td>\n",
       "      <td>-0.780237</td>\n",
       "      <td>...</td>\n",
       "      <td>0</td>\n",
       "      <td>0</td>\n",
       "      <td>1</td>\n",
       "      <td>0</td>\n",
       "      <td>0</td>\n",
       "      <td>0</td>\n",
       "      <td>1</td>\n",
       "      <td>0</td>\n",
       "      <td>1461</td>\n",
       "      <td>11.671017</td>\n",
       "    </tr>\n",
       "    <tr>\n",
       "      <th>1</th>\n",
       "      <td>-1.153717</td>\n",
       "      <td>0.0</td>\n",
       "      <td>-0.020243</td>\n",
       "      <td>0.391824</td>\n",
       "      <td>-0.432720</td>\n",
       "      <td>-1.234273</td>\n",
       "      <td>1.152692</td>\n",
       "      <td>-0.338269</td>\n",
       "      <td>0.730060</td>\n",
       "      <td>-0.780237</td>\n",
       "      <td>...</td>\n",
       "      <td>0</td>\n",
       "      <td>0</td>\n",
       "      <td>1</td>\n",
       "      <td>0</td>\n",
       "      <td>0</td>\n",
       "      <td>0</td>\n",
       "      <td>1</td>\n",
       "      <td>0</td>\n",
       "      <td>1462</td>\n",
       "      <td>11.929804</td>\n",
       "    </tr>\n",
       "    <tr>\n",
       "      <th>2</th>\n",
       "      <td>0.491058</td>\n",
       "      <td>0.0</td>\n",
       "      <td>-0.750032</td>\n",
       "      <td>-0.509820</td>\n",
       "      <td>0.861722</td>\n",
       "      <td>0.671883</td>\n",
       "      <td>-0.800730</td>\n",
       "      <td>-0.962010</td>\n",
       "      <td>-0.247804</td>\n",
       "      <td>0.934863</td>\n",
       "      <td>...</td>\n",
       "      <td>0</td>\n",
       "      <td>0</td>\n",
       "      <td>1</td>\n",
       "      <td>0</td>\n",
       "      <td>0</td>\n",
       "      <td>0</td>\n",
       "      <td>1</td>\n",
       "      <td>0</td>\n",
       "      <td>1463</td>\n",
       "      <td>12.094856</td>\n",
       "    </tr>\n",
       "    <tr>\n",
       "      <th>3</th>\n",
       "      <td>0.491058</td>\n",
       "      <td>0.0</td>\n",
       "      <td>-0.020243</td>\n",
       "      <td>0.391824</td>\n",
       "      <td>0.894913</td>\n",
       "      <td>0.671883</td>\n",
       "      <td>0.723545</td>\n",
       "      <td>-0.528406</td>\n",
       "      <td>-0.252681</td>\n",
       "      <td>0.878590</td>\n",
       "      <td>...</td>\n",
       "      <td>0</td>\n",
       "      <td>0</td>\n",
       "      <td>1</td>\n",
       "      <td>0</td>\n",
       "      <td>0</td>\n",
       "      <td>0</td>\n",
       "      <td>1</td>\n",
       "      <td>0</td>\n",
       "      <td>1464</td>\n",
       "      <td>12.193485</td>\n",
       "    </tr>\n",
       "    <tr>\n",
       "      <th>4</th>\n",
       "      <td>1.346030</td>\n",
       "      <td>0.0</td>\n",
       "      <td>1.439335</td>\n",
       "      <td>-0.509820</td>\n",
       "      <td>0.695768</td>\n",
       "      <td>0.385959</td>\n",
       "      <td>-0.800730</td>\n",
       "      <td>1.078482</td>\n",
       "      <td>0.610571</td>\n",
       "      <td>-0.780237</td>\n",
       "      <td>...</td>\n",
       "      <td>0</td>\n",
       "      <td>0</td>\n",
       "      <td>1</td>\n",
       "      <td>0</td>\n",
       "      <td>0</td>\n",
       "      <td>0</td>\n",
       "      <td>1</td>\n",
       "      <td>0</td>\n",
       "      <td>1465</td>\n",
       "      <td>12.121165</td>\n",
       "    </tr>\n",
       "  </tbody>\n",
       "</table>\n",
       "<p>5 rows × 244 columns</p>\n",
       "</div>"
      ],
      "text/plain": [
       "   MSSubClass  LotArea  OverallQual  OverallCond  YearBuilt  YearRemodAdd  \\\n",
       "0   -1.153717      0.0    -0.750032     0.391824  -0.333148     -1.091311   \n",
       "1   -1.153717      0.0    -0.020243     0.391824  -0.432720     -1.234273   \n",
       "2    0.491058      0.0    -0.750032    -0.509820   0.861722      0.671883   \n",
       "3    0.491058      0.0    -0.020243     0.391824   0.894913      0.671883   \n",
       "4    1.346030      0.0     1.439335    -0.509820   0.695768      0.385959   \n",
       "\n",
       "   MasVnrArea  BsmtUnfSF  TotalBsmtSF  2ndFlrSF  ...  SaleType_6  SaleType_7  \\\n",
       "0   -0.800730  -0.653618    -0.359978 -0.780237  ...           0           0   \n",
       "1    1.152692  -0.338269     0.730060 -0.780237  ...           0           0   \n",
       "2   -0.800730  -0.962010    -0.247804  0.934863  ...           0           0   \n",
       "3    0.723545  -0.528406    -0.252681  0.878590  ...           0           0   \n",
       "4   -0.800730   1.078482     0.610571 -0.780237  ...           0           0   \n",
       "\n",
       "   SaleType_8  SaleCondition_1  SaleCondition_2  SaleCondition_3  \\\n",
       "0           1                0                0                0   \n",
       "1           1                0                0                0   \n",
       "2           1                0                0                0   \n",
       "3           1                0                0                0   \n",
       "4           1                0                0                0   \n",
       "\n",
       "   SaleCondition_4  SaleCondition_5    Id  SalePrice  \n",
       "0                1                0  1461  11.671017  \n",
       "1                1                0  1462  11.929804  \n",
       "2                1                0  1463  12.094856  \n",
       "3                1                0  1464  12.193485  \n",
       "4                1                0  1465  12.121165  \n",
       "\n",
       "[5 rows x 244 columns]"
      ]
     },
     "execution_count": 130,
     "metadata": {},
     "output_type": "execute_result"
    }
   ],
   "source": [
    "housing_test.head()"
   ]
  },
  {
   "cell_type": "code",
   "execution_count": 131,
   "metadata": {},
   "outputs": [],
   "source": [
    "housing_test['SalePrice'] = housing_test['SalePrice'] .apply(lambda x: math.exp(x))"
   ]
  },
  {
   "cell_type": "code",
   "execution_count": 132,
   "metadata": {
    "scrolled": true
   },
   "outputs": [
    {
     "data": {
      "text/html": [
       "<div>\n",
       "<style scoped>\n",
       "    .dataframe tbody tr th:only-of-type {\n",
       "        vertical-align: middle;\n",
       "    }\n",
       "\n",
       "    .dataframe tbody tr th {\n",
       "        vertical-align: top;\n",
       "    }\n",
       "\n",
       "    .dataframe thead th {\n",
       "        text-align: right;\n",
       "    }\n",
       "</style>\n",
       "<table border=\"1\" class=\"dataframe\">\n",
       "  <thead>\n",
       "    <tr style=\"text-align: right;\">\n",
       "      <th></th>\n",
       "      <th>MSSubClass</th>\n",
       "      <th>LotArea</th>\n",
       "      <th>OverallQual</th>\n",
       "      <th>OverallCond</th>\n",
       "      <th>YearBuilt</th>\n",
       "      <th>YearRemodAdd</th>\n",
       "      <th>MasVnrArea</th>\n",
       "      <th>BsmtUnfSF</th>\n",
       "      <th>TotalBsmtSF</th>\n",
       "      <th>2ndFlrSF</th>\n",
       "      <th>...</th>\n",
       "      <th>SaleType_6</th>\n",
       "      <th>SaleType_7</th>\n",
       "      <th>SaleType_8</th>\n",
       "      <th>SaleCondition_1</th>\n",
       "      <th>SaleCondition_2</th>\n",
       "      <th>SaleCondition_3</th>\n",
       "      <th>SaleCondition_4</th>\n",
       "      <th>SaleCondition_5</th>\n",
       "      <th>Id</th>\n",
       "      <th>SalePrice</th>\n",
       "    </tr>\n",
       "  </thead>\n",
       "  <tbody>\n",
       "    <tr>\n",
       "      <th>0</th>\n",
       "      <td>-1.153717</td>\n",
       "      <td>0.0</td>\n",
       "      <td>-0.750032</td>\n",
       "      <td>0.391824</td>\n",
       "      <td>-0.333148</td>\n",
       "      <td>-1.091311</td>\n",
       "      <td>-0.800730</td>\n",
       "      <td>-0.653618</td>\n",
       "      <td>-0.359978</td>\n",
       "      <td>-0.780237</td>\n",
       "      <td>...</td>\n",
       "      <td>0</td>\n",
       "      <td>0</td>\n",
       "      <td>1</td>\n",
       "      <td>0</td>\n",
       "      <td>0</td>\n",
       "      <td>0</td>\n",
       "      <td>1</td>\n",
       "      <td>0</td>\n",
       "      <td>1461</td>\n",
       "      <td>117127.348999</td>\n",
       "    </tr>\n",
       "    <tr>\n",
       "      <th>1</th>\n",
       "      <td>-1.153717</td>\n",
       "      <td>0.0</td>\n",
       "      <td>-0.020243</td>\n",
       "      <td>0.391824</td>\n",
       "      <td>-0.432720</td>\n",
       "      <td>-1.234273</td>\n",
       "      <td>1.152692</td>\n",
       "      <td>-0.338269</td>\n",
       "      <td>0.730060</td>\n",
       "      <td>-0.780237</td>\n",
       "      <td>...</td>\n",
       "      <td>0</td>\n",
       "      <td>0</td>\n",
       "      <td>1</td>\n",
       "      <td>0</td>\n",
       "      <td>0</td>\n",
       "      <td>0</td>\n",
       "      <td>1</td>\n",
       "      <td>0</td>\n",
       "      <td>1462</td>\n",
       "      <td>151721.768461</td>\n",
       "    </tr>\n",
       "    <tr>\n",
       "      <th>2</th>\n",
       "      <td>0.491058</td>\n",
       "      <td>0.0</td>\n",
       "      <td>-0.750032</td>\n",
       "      <td>-0.509820</td>\n",
       "      <td>0.861722</td>\n",
       "      <td>0.671883</td>\n",
       "      <td>-0.800730</td>\n",
       "      <td>-0.962010</td>\n",
       "      <td>-0.247804</td>\n",
       "      <td>0.934863</td>\n",
       "      <td>...</td>\n",
       "      <td>0</td>\n",
       "      <td>0</td>\n",
       "      <td>1</td>\n",
       "      <td>0</td>\n",
       "      <td>0</td>\n",
       "      <td>0</td>\n",
       "      <td>1</td>\n",
       "      <td>0</td>\n",
       "      <td>1463</td>\n",
       "      <td>178949.050606</td>\n",
       "    </tr>\n",
       "    <tr>\n",
       "      <th>3</th>\n",
       "      <td>0.491058</td>\n",
       "      <td>0.0</td>\n",
       "      <td>-0.020243</td>\n",
       "      <td>0.391824</td>\n",
       "      <td>0.894913</td>\n",
       "      <td>0.671883</td>\n",
       "      <td>0.723545</td>\n",
       "      <td>-0.528406</td>\n",
       "      <td>-0.252681</td>\n",
       "      <td>0.878590</td>\n",
       "      <td>...</td>\n",
       "      <td>0</td>\n",
       "      <td>0</td>\n",
       "      <td>1</td>\n",
       "      <td>0</td>\n",
       "      <td>0</td>\n",
       "      <td>0</td>\n",
       "      <td>1</td>\n",
       "      <td>0</td>\n",
       "      <td>1464</td>\n",
       "      <td>197498.296944</td>\n",
       "    </tr>\n",
       "    <tr>\n",
       "      <th>4</th>\n",
       "      <td>1.346030</td>\n",
       "      <td>0.0</td>\n",
       "      <td>1.439335</td>\n",
       "      <td>-0.509820</td>\n",
       "      <td>0.695768</td>\n",
       "      <td>0.385959</td>\n",
       "      <td>-0.800730</td>\n",
       "      <td>1.078482</td>\n",
       "      <td>0.610571</td>\n",
       "      <td>-0.780237</td>\n",
       "      <td>...</td>\n",
       "      <td>0</td>\n",
       "      <td>0</td>\n",
       "      <td>1</td>\n",
       "      <td>0</td>\n",
       "      <td>0</td>\n",
       "      <td>0</td>\n",
       "      <td>1</td>\n",
       "      <td>0</td>\n",
       "      <td>1465</td>\n",
       "      <td>183719.360700</td>\n",
       "    </tr>\n",
       "  </tbody>\n",
       "</table>\n",
       "<p>5 rows × 244 columns</p>\n",
       "</div>"
      ],
      "text/plain": [
       "   MSSubClass  LotArea  OverallQual  OverallCond  YearBuilt  YearRemodAdd  \\\n",
       "0   -1.153717      0.0    -0.750032     0.391824  -0.333148     -1.091311   \n",
       "1   -1.153717      0.0    -0.020243     0.391824  -0.432720     -1.234273   \n",
       "2    0.491058      0.0    -0.750032    -0.509820   0.861722      0.671883   \n",
       "3    0.491058      0.0    -0.020243     0.391824   0.894913      0.671883   \n",
       "4    1.346030      0.0     1.439335    -0.509820   0.695768      0.385959   \n",
       "\n",
       "   MasVnrArea  BsmtUnfSF  TotalBsmtSF  2ndFlrSF  ...  SaleType_6  SaleType_7  \\\n",
       "0   -0.800730  -0.653618    -0.359978 -0.780237  ...           0           0   \n",
       "1    1.152692  -0.338269     0.730060 -0.780237  ...           0           0   \n",
       "2   -0.800730  -0.962010    -0.247804  0.934863  ...           0           0   \n",
       "3    0.723545  -0.528406    -0.252681  0.878590  ...           0           0   \n",
       "4   -0.800730   1.078482     0.610571 -0.780237  ...           0           0   \n",
       "\n",
       "   SaleType_8  SaleCondition_1  SaleCondition_2  SaleCondition_3  \\\n",
       "0           1                0                0                0   \n",
       "1           1                0                0                0   \n",
       "2           1                0                0                0   \n",
       "3           1                0                0                0   \n",
       "4           1                0                0                0   \n",
       "\n",
       "   SaleCondition_4  SaleCondition_5    Id      SalePrice  \n",
       "0                1                0  1461  117127.348999  \n",
       "1                1                0  1462  151721.768461  \n",
       "2                1                0  1463  178949.050606  \n",
       "3                1                0  1464  197498.296944  \n",
       "4                1                0  1465  183719.360700  \n",
       "\n",
       "[5 rows x 244 columns]"
      ]
     },
     "execution_count": 132,
     "metadata": {},
     "output_type": "execute_result"
    }
   ],
   "source": [
    "housing_test.head()"
   ]
  },
  {
   "cell_type": "code",
   "execution_count": 70,
   "metadata": {},
   "outputs": [],
   "source": [
    "submission =housing_test[['Id', 'SalePrice']].sort_values(ascending = True, by ='Id')"
   ]
  },
  {
   "cell_type": "code",
   "execution_count": 71,
   "metadata": {
    "scrolled": true
   },
   "outputs": [
    {
     "data": {
      "text/html": [
       "<div>\n",
       "<style scoped>\n",
       "    .dataframe tbody tr th:only-of-type {\n",
       "        vertical-align: middle;\n",
       "    }\n",
       "\n",
       "    .dataframe tbody tr th {\n",
       "        vertical-align: top;\n",
       "    }\n",
       "\n",
       "    .dataframe thead th {\n",
       "        text-align: right;\n",
       "    }\n",
       "</style>\n",
       "<table border=\"1\" class=\"dataframe\">\n",
       "  <thead>\n",
       "    <tr style=\"text-align: right;\">\n",
       "      <th></th>\n",
       "      <th>Id</th>\n",
       "      <th>SalePrice</th>\n",
       "    </tr>\n",
       "  </thead>\n",
       "  <tbody>\n",
       "    <tr>\n",
       "      <th>0</th>\n",
       "      <td>1461</td>\n",
       "      <td>111095.111870</td>\n",
       "    </tr>\n",
       "    <tr>\n",
       "      <th>1</th>\n",
       "      <td>1462</td>\n",
       "      <td>149211.528657</td>\n",
       "    </tr>\n",
       "    <tr>\n",
       "      <th>2</th>\n",
       "      <td>1463</td>\n",
       "      <td>172622.499203</td>\n",
       "    </tr>\n",
       "    <tr>\n",
       "      <th>3</th>\n",
       "      <td>1464</td>\n",
       "      <td>192015.260892</td>\n",
       "    </tr>\n",
       "    <tr>\n",
       "      <th>4</th>\n",
       "      <td>1465</td>\n",
       "      <td>193647.393057</td>\n",
       "    </tr>\n",
       "  </tbody>\n",
       "</table>\n",
       "</div>"
      ],
      "text/plain": [
       "     Id      SalePrice\n",
       "0  1461  111095.111870\n",
       "1  1462  149211.528657\n",
       "2  1463  172622.499203\n",
       "3  1464  192015.260892\n",
       "4  1465  193647.393057"
      ]
     },
     "execution_count": 71,
     "metadata": {},
     "output_type": "execute_result"
    }
   ],
   "source": [
    "submission.head()\n"
   ]
  },
  {
   "cell_type": "code",
   "execution_count": 72,
   "metadata": {},
   "outputs": [],
   "source": [
    "submission.to_csv('submission.csv', index = False)"
   ]
  },
  {
   "cell_type": "code",
   "execution_count": null,
   "metadata": {},
   "outputs": [],
   "source": [
    "#############################################################################################################"
   ]
  },
  {
   "cell_type": "code",
   "execution_count": null,
   "metadata": {},
   "outputs": [],
   "source": [
    "###################################################################################################################"
   ]
  },
  {
   "cell_type": "code",
   "execution_count": null,
   "metadata": {},
   "outputs": [],
   "source": []
  },
  {
   "cell_type": "code",
   "execution_count": null,
   "metadata": {},
   "outputs": [],
   "source": []
  },
  {
   "cell_type": "markdown",
   "metadata": {},
   "source": [
    "# HyperParameter Tuning"
   ]
  },
  {
   "cell_type": "code",
   "execution_count": null,
   "metadata": {},
   "outputs": [],
   "source": [
    "from sklearn import preprocessing\n",
    "from sklearn.preprocessing import LabelEncoder\n",
    "from sklearn import utils\n",
    "\n",
    "lab_enc = preprocessing.LabelEncoder()\n",
    "y_test_encoded = lab_enc.fit_transform(y_test)\n",
    "print(y_test_encoded)\n",
    "\n",
    "print(utils.multiclass.type_of_target(y_test))\n",
    "print(utils.multiclass.type_of_target(y_test.astype('int')))\n",
    "print(utils.multiclass.type_of_target(y_test_encoded))"
   ]
  },
  {
   "cell_type": "code",
   "execution_count": null,
   "metadata": {},
   "outputs": [],
   "source": [
    "from sklearn import metrics\n",
    "from sklearn.metrics import confusion_matrix\n",
    "mistakes = 0 # the mistakes each individual tree makes\n",
    "confusion_pair = 0\n",
    "\n",
    "n_pairs = 0.5 * rf.n_estimators * (rf.n_estimators-1)\n",
    "for idx, tree in enumerate(rf.estimators_):\n",
    "    mistakes += confusion_matrix(tree.predict(X_test), y_test)\n",
    "    for idx2, tree2 in enumerate(rf.estimators_):\n",
    "            if idx2 == idx: continue\n",
    "            confusion_pair += confusion_matrix(tree.predict(X_test), tree2.predict(X_test))   \n",
    "print(\"Average per Tree Confusion:\")\n",
    "print(mistakes/rf.n_estimators*1.0)\n",
    "print(\"Aggregate Pairwise Confusion:\")\n",
    "print(confusion_pair/n_pairs)"
   ]
  },
  {
   "cell_type": "code",
   "execution_count": null,
   "metadata": {
    "scrolled": true
   },
   "outputs": [],
   "source": [
    "en_prediction = rf.predict(X_test)\n",
    "en_mse = mean_squared_error(en_prediction, y_test)\n",
    "en_rsme = np.sqrt(en_mse)\n",
    "print('RF RMSE: %.2f' % en_rsme)"
   ]
  },
  {
   "cell_type": "markdown",
   "metadata": {},
   "source": [
    "## Hyperparameter tuning RF"
   ]
  },
  {
   "cell_type": "code",
   "execution_count": null,
   "metadata": {},
   "outputs": [],
   "source": [
    "from sklearn.model_selection import RandomizedSearchCV"
   ]
  },
  {
   "cell_type": "code",
   "execution_count": null,
   "metadata": {},
   "outputs": [],
   "source": [
    "print('Parameters currently in use:\\n')\n",
    "pprint(ridge.get_params())"
   ]
  },
  {
   "cell_type": "code",
   "execution_count": null,
   "metadata": {},
   "outputs": [],
   "source": [
    "###### number of trees in random forest\n",
    "n_estimators =[int(x) for x in np.linspace(start =200, stop = \n",
    "                                           2000, num=10)]"
   ]
  },
  {
   "cell_type": "code",
   "execution_count": null,
   "metadata": {},
   "outputs": [],
   "source": [
    "##### Number of features to consider at every split\n",
    "max_features = ['auto', 'sqrt']"
   ]
  },
  {
   "cell_type": "code",
   "execution_count": null,
   "metadata": {},
   "outputs": [],
   "source": [
    "#### Max number of levels in tree\n",
    "max_depth = [int(x) for x in np.linspace(20, 110, num=11)]\n",
    "max_depth.append(None)"
   ]
  },
  {
   "cell_type": "code",
   "execution_count": null,
   "metadata": {},
   "outputs": [],
   "source": [
    "###### min samples split a node\n",
    "min_samples_split = [2, 5, 10]"
   ]
  },
  {
   "cell_type": "code",
   "execution_count": null,
   "metadata": {},
   "outputs": [],
   "source": [
    "#### Minimum number of samples required to split a node\n",
    "min_samples_leaf = [1, 2, 4]"
   ]
  },
  {
   "cell_type": "code",
   "execution_count": null,
   "metadata": {},
   "outputs": [],
   "source": [
    "#### Method of selecting samples for training each tree\n",
    "bootstrap = [True, False]"
   ]
  },
  {
   "cell_type": "code",
   "execution_count": null,
   "metadata": {},
   "outputs": [],
   "source": [
    "#### Create random grid\n",
    "random_grid ={'n_estimators':n_estimators,\n",
    "             'max_features': max_features,\n",
    "             'max_depth': max_depth,\n",
    "             'min_samples_split': min_samples_split,\n",
    "             'min_samples_leaf': min_samples_leaf,\n",
    "             'bootstrap':bootstrap}\n",
    "pprint(random_grid)"
   ]
  },
  {
   "cell_type": "code",
   "execution_count": null,
   "metadata": {},
   "outputs": [],
   "source": [
    "#### Using random grid to search for best hyperparameters\n",
    "### base mode\n",
    "rf_random = RandomizedSearchCV(estimator = rf, param_distributions =\n",
    "                              random_grid, n_iter = 100, cv = 3, verbose =2,\n",
    "                              random_state=42,\n",
    "                              n_jobs=-1)"
   ]
  },
  {
   "cell_type": "code",
   "execution_count": null,
   "metadata": {},
   "outputs": [],
   "source": [
    "#### Value error fix for refit model into rf_random\n",
    "\n",
    "from sklearn import preprocessing\n",
    "from sklearn.preprocessing import LabelEncoder\n",
    "from sklearn import utils\n",
    "\n",
    "lab_enc = preprocessing.LabelEncoder()\n",
    "y_train_encoded = lab_enc.fit_transform(y_train)\n",
    "print(y_train_encoded)\n",
    "\n",
    "print(utils.multiclass.type_of_target(y_train))\n",
    "print(utils.multiclass.type_of_target(y_train.astype('int')))\n",
    "print(utils.multiclass.type_of_target(y_train_encoded))"
   ]
  },
  {
   "cell_type": "markdown",
   "metadata": {},
   "source": [
    "### New Model Fitting"
   ]
  },
  {
   "cell_type": "code",
   "execution_count": null,
   "metadata": {},
   "outputs": [],
   "source": [
    "rf_random.fit(X_train, y_train_encoded)"
   ]
  },
  {
   "cell_type": "code",
   "execution_count": null,
   "metadata": {},
   "outputs": [],
   "source": [
    "#### best parameters\n",
    "rf_random.best_params_"
   ]
  },
  {
   "cell_type": "markdown",
   "metadata": {},
   "source": [
    "### Ridge hyper parameters"
   ]
  },
  {
   "cell_type": "code",
   "execution_count": null,
   "metadata": {},
   "outputs": [],
   "source": [
    "from scipy.stats import uniform as sp_rand\n",
    "print('Parameters currently in use:\\n')\n",
    "pprint(ridge.get_params())"
   ]
  },
  {
   "cell_type": "code",
   "execution_count": null,
   "metadata": {},
   "outputs": [],
   "source": [
    "param_grid ={'alpha':sp_rand()}\n",
    "model = Ridge()\n",
    "research = RandomizedSearchCV(estimator=model, param_distributions=param_grid,\n",
    "                             n_iter = 100)"
   ]
  },
  {
   "cell_type": "code",
   "execution_count": null,
   "metadata": {},
   "outputs": [],
   "source": [
    "research.fit(X_train, y_train)\n",
    "print(research)"
   ]
  },
  {
   "cell_type": "code",
   "execution_count": null,
   "metadata": {},
   "outputs": [],
   "source": [
    "print(research.best_score_)\n",
    "print(research.best_estimator_.alpha)"
   ]
  },
  {
   "cell_type": "code",
   "execution_count": null,
   "metadata": {},
   "outputs": [],
   "source": []
  },
  {
   "cell_type": "code",
   "execution_count": null,
   "metadata": {},
   "outputs": [],
   "source": []
  }
 ],
 "metadata": {
  "kernelspec": {
   "display_name": "Python 3",
   "language": "python",
   "name": "python3"
  },
  "language_info": {
   "codemirror_mode": {
    "name": "ipython",
    "version": 3
   },
   "file_extension": ".py",
   "mimetype": "text/x-python",
   "name": "python",
   "nbconvert_exporter": "python",
   "pygments_lexer": "ipython3",
   "version": "3.7.3"
  }
 },
 "nbformat": 4,
 "nbformat_minor": 2
}
